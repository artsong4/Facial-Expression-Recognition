{
 "cells": [
  {
   "cell_type": "code",
   "execution_count": 1,
   "metadata": {
    "id": "vG3clBJQyqSn"
   },
   "outputs": [],
   "source": [
    "import os\n",
    "import random\n",
    "import numpy as np\n",
    "import tensorflow as tf\n",
    "from tensorflow.keras.models import Sequential, load_model\n",
    "from tensorflow.keras.layers import Conv2D, MaxPooling2D, Flatten, Dense, Dropout\n",
    "from tensorflow.keras.preprocessing.image import ImageDataGenerator\n",
    "from tensorflow.keras.callbacks import ModelCheckpoint, EarlyStopping\n",
    "from tensorflow.keras.preprocessing import image\n",
    "from tensorflow.keras.optimizers import Adam"
   ]
  },
  {
   "cell_type": "code",
   "execution_count": 2,
   "metadata": {
    "id": "zU_JxBAiyvBb"
   },
   "outputs": [],
   "source": [
    "# Labels for the different types of images the CNN will predict\n",
    "class_labels = {\n",
    "    0: 'Agony',\n",
    "    1: 'Happy',\n",
    "    2: 'Neutral',\n",
    "    3: 'Sad',\n",
    "    4: 'Scared'\n",
    "}"
   ]
  },
  {
   "cell_type": "code",
   "execution_count": 3,
   "metadata": {
    "id": "yze9aHjl_Msq"
   },
   "outputs": [],
   "source": [
    "# Define the path to your data and model\n",
    "base_path = r\"C:\\Projects\\Images\"\n",
    "model_save_path = os.path.join(base_path, 'Models', 'last_best_model.h5')"
   ]
  },
  {
   "cell_type": "code",
   "execution_count": 4,
   "metadata": {},
   "outputs": [
    {
     "name": "stdout",
     "output_type": "stream",
     "text": [
      "Loaded model: C:\\Projects\\Images\\Models\\last_best_model.h5\n"
     ]
    }
   ],
   "source": [
    "# Load the model without compiling it\n",
    "model = load_model(model_save_path, compile=False)\n",
    "\n",
    "# Compile the model manually\n",
    "model.compile(optimizer=Adam(), loss='categorical_crossentropy', metrics=['accuracy'])\n",
    "\n",
    "print(\"Loaded model:\", model_save_path)"
   ]
  },
  {
   "cell_type": "code",
   "execution_count": 5,
   "metadata": {
    "id": "6ikdTZywyv2k"
   },
   "outputs": [],
   "source": [
    "# Callbacks\n",
    "model_checkpoint = ModelCheckpoint(\n",
    "    model_save_path,  # Path where the model will be saved\n",
    "    monitor='val_accuracy',  # Monitor validation accuracy\n",
    "    save_best_only=True,  # Only save the model if val_accuracy has improved\n",
    "    mode='max',  # Save the model when val_accuracy is at its max\n",
    "    verbose=1\n",
    ")\n",
    "\n",
    "early_stopping = EarlyStopping(\n",
    "    monitor='val_loss',  # Monitor the validation loss\n",
    "    min_delta=0.001,  # Minimum change to qualify as an improvement\n",
    "    patience=20,  # How many epochs to wait before stopping\n",
    "    restore_best_weights=True,  # Restore model weights from the epoch with the best value of the monitored quantity\n",
    "    mode='min',  # Stop training when the quantity monitored has stopped decreasing\n",
    "    verbose=1\n",
    ")"
   ]
  },
  {
   "cell_type": "code",
   "execution_count": 6,
   "metadata": {
    "id": "fUli_wHGyvmL"
   },
   "outputs": [],
   "source": [
    "# Prepare image for prediction using saved model\n",
    "def prepare_image(file_path):\n",
    "    img = image.load_img(file_path, target_size=(240, 240))  # Resize image\n",
    "    img_array = image.img_to_array(img)  # Convert image to array\n",
    "    img_array = np.expand_dims(img_array, axis=0)  # Add batch dimension\n",
    "    img_array /= 255.0  # Scale image\n",
    "    return img_array\n",
    "\n",
    "def LoadSavedModel(file_path):\n",
    "    if not os.path.exists(file_path):\n",
    "        raise FileNotFoundError(f\"Model file not found: {file_path}\")\n",
    "    # Load the model without compiling\n",
    "    model = load_model(file_path, compile=False)\n",
    "    print(\"Loaded model: \", file_path)\n",
    "    return model"
   ]
  },
  {
   "cell_type": "code",
   "execution_count": 7,
   "metadata": {
    "id": "xyMIq95jyvaE"
   },
   "outputs": [],
   "source": [
    "# Build Test and Train using a CNN Model\n",
    "def BuildTrainAndTestModel():\n",
    "    # Set Seed value for consistent initialization\n",
    "    seed_value = 100\n",
    "\n",
    "    # Set the PYTHON HASHSEED environment variable at a fixed value\n",
    "    os.environ['PYTHONHASHSEED'] = str(seed_value)\n",
    "\n",
    "    # Set the python built-in pseudo-random generator at a fixed value\n",
    "    random.seed(seed_value)\n",
    "\n",
    "    # Set the numpy pseudo-random generator at a fixed value\n",
    "    np.random.seed(seed_value)\n",
    "\n",
    "    # Set the tensorflow pseudo-random generator at a fixed value\n",
    "    tf.random.set_seed(seed_value)\n",
    "\n",
    "    # Create Image Data Generators\n",
    "    train_datagen = ImageDataGenerator(\n",
    "        rescale=1./255,\n",
    "        rotation_range=40,\n",
    "        width_shift_range=0.2,\n",
    "        height_shift_range=0.2,\n",
    "        shear_range=0.2,\n",
    "        zoom_range=0.2,\n",
    "        horizontal_flip=True,\n",
    "        fill_mode='nearest'\n",
    "    )\n",
    "\n",
    "    val_datagen = ImageDataGenerator(rescale=1./255)\n",
    "    test_datagen = ImageDataGenerator(rescale=1./255)\n",
    "\n",
    "    # Create the Models directory if it doesn't exist\n",
    "    models_path = os.path.join(base_path, 'Models')\n",
    "    if not os.path.exists(models_path):\n",
    "        os.makedirs(models_path)\n",
    "\n",
    "    # Training Data\n",
    "    train_generator = train_datagen.flow_from_directory(\n",
    "        os.path.join(base_path, 'Train'),  # Path to training data\n",
    "        target_size=(240, 240),  # Resize images to 240x240\n",
    "        batch_size=32,\n",
    "        class_mode='categorical'  # Since we're classifying multiple classes\n",
    "    )\n",
    "\n",
    "    # Validation data\n",
    "    validation_generator = val_datagen.flow_from_directory(\n",
    "        os.path.join(base_path, 'Validation'),\n",
    "        target_size=(240, 240),\n",
    "        batch_size=32,\n",
    "        class_mode='categorical'\n",
    "    )\n",
    "\n",
    "    test_generator = test_datagen.flow_from_directory(\n",
    "        os.path.join(base_path, 'Test'),\n",
    "        target_size=(240, 240),\n",
    "        batch_size=32,\n",
    "        class_mode='categorical'\n",
    "    )\n",
    "\n",
    "    # Create the CNN Model\n",
    "    model = Sequential([\n",
    "        Conv2D(32, (3, 3), activation='relu', input_shape=(240, 240, 3)),\n",
    "        MaxPooling2D(2, 2),\n",
    "\n",
    "        Conv2D(64, (3, 3), activation='relu'),\n",
    "        MaxPooling2D(2, 2),\n",
    "\n",
    "        Conv2D(128, (3, 3), activation='relu'),\n",
    "        MaxPooling2D(2, 2),\n",
    "\n",
    "        Conv2D(128, (3, 3), activation='relu'),\n",
    "        MaxPooling2D(2, 2),\n",
    "\n",
    "        Flatten(),\n",
    "        Dropout(0.3),\n",
    "        Dense(64, activation='relu'),\n",
    "        Dropout(0.3),\n",
    "        Dense(5, activation='softmax')  # 5 classes\n",
    "    ])\n",
    "\n",
    "    # Model compilation using optimizer Adam\n",
    "    model.compile(optimizer='adam',\n",
    "                  loss='categorical_crossentropy',\n",
    "                  metrics=['accuracy'])\n",
    "\n",
    "    # Callbacks\n",
    "    model_checkpoint = ModelCheckpoint(\n",
    "        os.path.join(base_path, 'Models', 'last_best_model.h5'),  # Path where the model will be saved\n",
    "        monitor='val_accuracy',  # Monitor validation accuracy\n",
    "        save_best_only=True,  # Only save the model if val_accuracy has improved\n",
    "        mode='max',  # Save the model when val_accuracy is at its max\n",
    "        verbose=1\n",
    "    )\n",
    "\n",
    "    early_stopping = EarlyStopping(\n",
    "        monitor='val_loss',  # Monitor the validation loss\n",
    "        min_delta=0.001,  # Minimum change to qualify as an improvement\n",
    "        patience=20,  # How many epochs to wait before stopping\n",
    "        restore_best_weights=True,  # Restore model weights from the epoch with the best value of the monitored quantity\n",
    "        mode='min',  # Stop training when the quantity monitored has stopped decreasing\n",
    "        verbose=1\n",
    "    )\n",
    "\n",
    "    # Train the Model\n",
    "    train = model.fit(\n",
    "        train_generator,\n",
    "        steps_per_epoch=100,  # Number of batches per epoch\n",
    "        epochs=50,\n",
    "        validation_data=validation_generator,\n",
    "        validation_steps=50,  # Number of validation batches\n",
    "        callbacks=[model_checkpoint, early_stopping]  # Early stopping and saving\n",
    "    )\n",
    "\n",
    "    # Verify the model save path\n",
    "    if not os.path.exists(os.path.join(base_path, 'Models', 'last_best_model.h5')):\n",
    "        print(\"Model was not saved correctly.\")\n",
    "    else:\n",
    "        print(\"Model saved successfully.\")\n",
    "\n",
    "    # Evaluate the Model\n",
    "    test_loss, test_acc = model.evaluate(test_generator)\n",
    "    print(f\"Test accuracy: {test_acc}\")"
   ]
  },
  {
   "cell_type": "code",
   "execution_count": 8,
   "metadata": {
    "colab": {
     "base_uri": "https://localhost:8080/"
    },
    "id": "iAHwyYzByvRD",
    "outputId": "c89f90ee-fd76-4ad3-9b57-547792579a3d"
   },
   "outputs": [
    {
     "name": "stdout",
     "output_type": "stream",
     "text": [
      "Loaded model:  C:\\Projects\\Images\\Models\\last_best_model.h5\n",
      "The predicted facial expression is:  Agony\n"
     ]
    }
   ],
   "source": [
    "def PredictImage(model, file_path):\n",
    "    # Prepare image\n",
    "    img_to_predict = prepare_image(file_path)\n",
    "\n",
    "    # Predict\n",
    "    predictions = model.predict(img_to_predict)\n",
    "\n",
    "    # Get the predicted class for the image based on the highest probability\n",
    "    predicted_class = np.argmax(predictions, axis=1)\n",
    "\n",
    "    # Get the name of the predicted class for the image\n",
    "    predicted_class_name = class_labels[predicted_class[0]]\n",
    "    print('The predicted facial expression is: ', predicted_class_name)\n",
    "\n",
    "# Ensure the model exists before attempting to load it\n",
    "if not os.path.exists(model_save_path):\n",
    "    print(f\"Model file does not exist: {model_save_path}\")\n",
    "else:\n",
    "    # Load the saved model for the CNN without compiling\n",
    "    model = LoadSavedModel(model_save_path)\n",
    "\n",
    "    # Compile the model manually with the Adam optimizer\n",
    "    model.compile(optimizer=Adam(), loss='categorical_crossentropy', metrics=['accuracy'])\n",
    "\n",
    "    # Predict the image class from files stored in the Pics folder\n",
    "    PredictImage(model, r'C:\\Projects\\Images\\988.jpg')  # Test image for Agony"
   ]
  },
  {
   "cell_type": "code",
   "execution_count": null,
   "metadata": {},
   "outputs": [],
   "source": []
  }
 ],
 "metadata": {
  "colab": {
   "provenance": []
  },
  "kernelspec": {
   "display_name": "Python 3 (ipykernel)",
   "language": "python",
   "name": "python3"
  },
  "language_info": {
   "codemirror_mode": {
    "name": "ipython",
    "version": 3
   },
   "file_extension": ".py",
   "mimetype": "text/x-python",
   "name": "python",
   "nbconvert_exporter": "python",
   "pygments_lexer": "ipython3",
   "version": "3.11.5"
  }
 },
 "nbformat": 4,
 "nbformat_minor": 4
}
